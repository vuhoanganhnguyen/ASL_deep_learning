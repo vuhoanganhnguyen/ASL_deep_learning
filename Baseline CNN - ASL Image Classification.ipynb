{
 "cells": [
  {
   "cell_type": "code",
   "execution_count": 1,
   "id": "10aa18d8",
   "metadata": {},
   "outputs": [],
   "source": [
    "from keras.preprocessing.image import ImageDataGenerator\n",
    "import os"
   ]
  },
  {
   "cell_type": "markdown",
   "id": "71efc07a",
   "metadata": {},
   "source": [
    "## Data pre-processing"
   ]
  },
  {
   "cell_type": "code",
   "execution_count": 2,
   "id": "64eca1ea",
   "metadata": {
    "scrolled": true
   },
   "outputs": [
    {
     "name": "stdout",
     "output_type": "stream",
     "text": [
      "Found 1929 images belonging to 10 classes.\n",
      "Found 548 images belonging to 10 classes.\n",
      "['0', '1', '2', '3', '4', '5', '6', '7', '8', '9']\n"
     ]
    }
   ],
   "source": [
    "train_datagen = ImageDataGenerator(rescale= 1./255)\n",
    "test_datagen = ImageDataGenerator(rescale=1./255)\n",
    "\n",
    "# Take the path to a directory and import the images\n",
    "\n",
    "train_dir = 'E:\\\\Study\\\\TRU\\\\4 Fourth Year\\\\Fall 2022 - University of Salford\\\\Deep Learning\\\\Assessment\\\\Data\\\\signlang\\\\signlang\\\\train'\n",
    "train_generator = train_datagen.flow_from_directory(train_dir, target_size=(128,128),\n",
    "                                                    batch_size=10, class_mode='categorical')\n",
    "\n",
    "val_dir = 'E:\\\\Study\\\\TRU\\\\4 Fourth Year\\\\Fall 2022 - University of Salford\\\\Deep Learning\\\\Assessment\\\\Data\\\\signlang\\\\signlang\\\\val'\n",
    "val_generator = test_datagen.flow_from_directory(val_dir, target_size=(128,128),\n",
    "                                                 batch_size=10, class_mode='categorical')\n",
    "\n",
    "#  Find the labels of the digits\n",
    "\n",
    "class_dictionary = train_generator.class_indices\n",
    "class_dictionary = { value:key for key,value in class_dictionary.items()}\n",
    "class_list = [value for _,value in class_dictionary.items()]\n",
    "print(class_list)"
   ]
  },
  {
   "cell_type": "markdown",
   "id": "62cd3669",
   "metadata": {},
   "source": [
    "## Define the network\n",
    "The baseline model has <b>single</b> layers of <b>Conv2D</b>, <b>MaxPooling2D</b>, <b>Flatten</b> and <b>Dense</b> layers to classify the 10 digits"
   ]
  },
  {
   "cell_type": "code",
   "execution_count": 3,
   "id": "b436a483",
   "metadata": {
    "scrolled": true
   },
   "outputs": [
    {
     "name": "stdout",
     "output_type": "stream",
     "text": [
      "Model: \"sequential\"\n",
      "_________________________________________________________________\n",
      " Layer (type)                Output Shape              Param #   \n",
      "=================================================================\n",
      " conv2d (Conv2D)             (None, 126, 126, 32)      896       \n",
      "                                                                 \n",
      " max_pooling2d (MaxPooling2D  (None, 63, 63, 32)       0         \n",
      " )                                                               \n",
      "                                                                 \n",
      " flatten (Flatten)           (None, 127008)            0         \n",
      "                                                                 \n",
      " dense (Dense)               (None, 512)               65028608  \n",
      "                                                                 \n",
      " dense_1 (Dense)             (None, 10)                5130      \n",
      "                                                                 \n",
      "=================================================================\n",
      "Total params: 65,034,634\n",
      "Trainable params: 65,034,634\n",
      "Non-trainable params: 0\n",
      "_________________________________________________________________\n"
     ]
    }
   ],
   "source": [
    "import os\n",
    "os.environ['KMP_DUPLICATE_LIB_OK']='True'\n",
    "\n",
    "from keras import models, layers, optimizers\n",
    "\n",
    "network = models.Sequential()\n",
    "\n",
    "network.add(layers.Conv2D(32, (3,3), activation= 'relu', input_shape=(128,128,3)))\n",
    "network.add(layers.MaxPooling2D(2,2))\n",
    "network.add(layers.Flatten())\n",
    "network.add(layers.Dense(512, activation='relu'))\n",
    "network.add(layers.Dense(10,activation='softmax'))\n",
    "\n",
    "network.compile(loss='categorical_crossentropy', optimizer='adam', metrics=['accuracy'] )\n",
    "\n",
    "network.summary()"
   ]
  },
  {
   "cell_type": "markdown",
   "id": "b2e98d61",
   "metadata": {},
   "source": [
    "## Initialize earlystopping callback and train the network"
   ]
  },
  {
   "cell_type": "code",
   "execution_count": 4,
   "id": "d28e7f42",
   "metadata": {},
   "outputs": [
    {
     "name": "stdout",
     "output_type": "stream",
     "text": [
      "Epoch 1/10\n",
      "193/193 [==============================] - 197s 991ms/step - loss: 2.7979 - accuracy: 0.5168 - val_loss: 0.8052 - val_accuracy: 0.7135\n",
      "Epoch 2/10\n",
      "193/193 [==============================] - 95s 489ms/step - loss: 0.3089 - accuracy: 0.9088 - val_loss: 0.6039 - val_accuracy: 0.7956\n",
      "Epoch 3/10\n",
      "193/193 [==============================] - 98s 509ms/step - loss: 0.0791 - accuracy: 0.9829 - val_loss: 0.6901 - val_accuracy: 0.7847\n",
      "Epoch 4/10\n",
      "193/193 [==============================] - 96s 496ms/step - loss: 0.0197 - accuracy: 0.9984 - val_loss: 0.7558 - val_accuracy: 0.7993\n",
      "Epoch 5/10\n",
      "193/193 [==============================] - 111s 576ms/step - loss: 0.0048 - accuracy: 1.0000 - val_loss: 0.6872 - val_accuracy: 0.7993\n"
     ]
    }
   ],
   "source": [
    "from keras import callbacks\n",
    "\n",
    "# Initialize earlystopping callback\n",
    "earlystopping = callbacks.EarlyStopping(monitor =\"val_loss\", \n",
    "                                        mode =\"min\", patience=3, \n",
    "                                        restore_best_weights=True)\n",
    "\n",
    "# Train the network\n",
    "digits_train_model = network.fit(train_generator, epochs=10, validation_data=val_generator, callbacks=[earlystopping])"
   ]
  },
  {
   "cell_type": "markdown",
   "id": "234c5b15",
   "metadata": {},
   "source": [
    "## Evaluate performance"
   ]
  },
  {
   "cell_type": "code",
   "execution_count": 5,
   "id": "4166377a",
   "metadata": {},
   "outputs": [
    {
     "name": "stdout",
     "output_type": "stream",
     "text": [
      "accuracy: 79.56%\n"
     ]
    }
   ],
   "source": [
    "scores = network.evaluate(val_generator, verbose=0)\n",
    "print(\"%s: %.2f%%\" % (network.metrics_names[1], scores[1]*100))"
   ]
  },
  {
   "cell_type": "markdown",
   "id": "476967f3",
   "metadata": {},
   "source": [
    "## Learning curves"
   ]
  },
  {
   "cell_type": "code",
   "execution_count": 6,
   "id": "3a2b90e5",
   "metadata": {},
   "outputs": [],
   "source": [
    "# Save the history \n",
    "\n",
    "import pickle\n",
    "\n",
    "dictionary_data = digits_train_model.history\n",
    "history_file = open(\"model_data_baseline.pkl\", \"wb\")\n",
    "pickle.dump(dictionary_data, history_file)\n",
    "history_file.close()"
   ]
  },
  {
   "cell_type": "code",
   "execution_count": 7,
   "id": "8fb08892",
   "metadata": {},
   "outputs": [
    {
     "name": "stdout",
     "output_type": "stream",
     "text": [
      "dict_keys(['loss', 'accuracy', 'val_loss', 'val_accuracy'])\n"
     ]
    }
   ],
   "source": [
    "# load the history \n",
    "\n",
    "import pickle\n",
    "\n",
    "history_file = open(\"model_data_baseline.pkl\", \"rb\")\n",
    "history = pickle.load(history_file)\n",
    "history_file.close()\n",
    "print(history.keys())"
   ]
  },
  {
   "cell_type": "code",
   "execution_count": 8,
   "id": "d8e4a00d",
   "metadata": {},
   "outputs": [],
   "source": [
    "acc = history['accuracy']\n",
    "val_acc = history['val_accuracy']\n",
    "loss = history['loss']\n",
    "val_loss = history['val_loss']\n",
    "\n",
    "epochs = range(1,len(acc)+1)"
   ]
  },
  {
   "cell_type": "code",
   "execution_count": 9,
   "id": "abb97a90",
   "metadata": {},
   "outputs": [
    {
     "data": {
      "image/png": "[encoded data removed]",
      "text/plain": [
       "<Figure size 640x480 with 1 Axes>"
      ]
     },
     "metadata": {},
     "output_type": "display_data"
    },
    {
     "data": {
      "image/png": "[encoded data removed]",
      "text/plain": [
       "<Figure size 640x480 with 1 Axes>"
      ]
     },
     "metadata": {},
     "output_type": "display_data"
    }
   ],
   "source": [
    "import matplotlib.pyplot as plt\n",
    "\n",
    "# Plot training accuracy and validation accuracy\n",
    "\n",
    "plt.subplot(211)\n",
    "plt.plot(epochs, acc, label='Training Accuracy')\n",
    "plt.plot(epochs, val_acc, label='Validation Accuracy')\n",
    "plt.title('Classification Accuracy')\n",
    "plt.legend()\n",
    "plt.figure()\n",
    "\n",
    "plt.subplot(212)\n",
    "plt.plot(epochs, loss, label='Training Loss')\n",
    "plt.plot(epochs, val_loss, label='Validation Loss')\n",
    "plt.title('Cross Entropy Loss')\n",
    "plt.legend()\n",
    "\n",
    "plt.show()\n"
   ]
  },
  {
   "cell_type": "code",
   "execution_count": null,
   "id": "5623394f",
   "metadata": {},
   "outputs": [],
   "source": []
  }
 ],
 "metadata": {
  "kernelspec": {
   "display_name": "Python 3 (ipykernel)",
   "language": "python",
   "name": "python3"
  },
  "language_info": {
   "codemirror_mode": {
    "name": "ipython",
    "version": 3
   },
   "file_extension": ".py",
   "mimetype": "text/x-python",
   "name": "python",
   "nbconvert_exporter": "python",
   "pygments_lexer": "ipython3",
   "version": "3.9.7"
  }
 },
 "nbformat": 4,
 "nbformat_minor": 5
}
